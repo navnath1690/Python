{
 "cells": [
  {
   "cell_type": "code",
   "execution_count": 9,
   "id": "fe279e11-8194-4782-8fde-dae9d4bde4c5",
   "metadata": {},
   "outputs": [
    {
     "name": "stdin",
     "output_type": "stream",
     "text": [
      "Enter the number: 1111\n"
     ]
    },
    {
     "name": "stdout",
     "output_type": "stream",
     "text": [
      "The number is not an Armstrong number\n"
     ]
    }
   ],
   "source": [
    "#Program to check an Armstrong number\n",
    "\n",
    "num=int(input(\"Enter the number:\"))  #convert the number to string\n",
    "n=len(str(num))\n",
    "sum1=0\n",
    "temp=num\n",
    "while temp!=0:\n",
    "    rem=temp%10\n",
    "    sum1+=rem**n\n",
    "    temp=temp//10\n",
    "if sum1==num:\n",
    "    print(\"The number is an Armstrong number\")\n",
    "else:\n",
    "    print(\"The number is not an Armstrong number\")\n",
    "\n"
   ]
  },
  {
   "cell_type": "code",
   "execution_count": 25,
   "id": "15424e8d-f94d-4a48-a4b7-72479e6d2b33",
   "metadata": {},
   "outputs": [
    {
     "name": "stdin",
     "output_type": "stream",
     "text": [
      "Enter the starting number 10\n",
      "Enter the ending number 30\n"
     ]
    },
    {
     "name": "stdout",
     "output_type": "stream",
     "text": [
      "All prime numbers between 10 and 30 are: [11, 13, 17, 19, 23, 29]\n"
     ]
    }
   ],
   "source": [
    "#Program to Print all Prime numbers in an Interval\n",
    "\n",
    "start=int(input(\"Enter the starting number\"))\n",
    "end=int(input(\"Enter the ending number\"))\n",
    "l=[]\n",
    "for i in range(start,end+1):\n",
    "    for j in range(2,i):\n",
    "        if i%j==0:\n",
    "            flag=0\n",
    "            break\n",
    "        else:\n",
    "            flag=1\n",
    "    if flag==1:\n",
    "        l.append(i)\n",
    "    else:\n",
    "        continue\n",
    "print(f'All prime numbers between {start} and {end} are:',l)"
   ]
  },
  {
   "cell_type": "code",
   "execution_count": 13,
   "id": "58dc1c24-841c-4a59-af4f-e09279a965c7",
   "metadata": {},
   "outputs": [
    {
     "name": "stdin",
     "output_type": "stream",
     "text": [
      "Enter the no. 144\n"
     ]
    },
    {
     "name": "stdout",
     "output_type": "stream",
     "text": [
      "The number 144 is not a Fibonacci number\n"
     ]
    }
   ],
   "source": [
    "#Program for How to check if a given number is Fibonacci number?\n",
    "num=int(input(\"Enter the no.\"))\n",
    "l=[0,1]\n",
    "sum1=1\n",
    "for i in range(1,1000):\n",
    "    sum1+=i\n",
    "    l.append(sum1)\n",
    "    sum1=i\n",
    "if num in l:\n",
    "    print(f'The number {num} is a Fibonacci number')\n",
    "else:\n",
    "    print(f'The number {num} is not a Fibonacci number')\n",
    "    \n",
    "    "
   ]
  },
  {
   "cell_type": "code",
   "execution_count": 15,
   "id": "58e7ba51-fa2c-4ccd-99fa-c19c5d55adcb",
   "metadata": {},
   "outputs": [
    {
     "name": "stdin",
     "output_type": "stream",
     "text": [
      "Enter the character A\n"
     ]
    },
    {
     "name": "stdout",
     "output_type": "stream",
     "text": [
      "The ASCII value of A is 65\n"
     ]
    }
   ],
   "source": [
    "#Program to print ASCII Value of a character\n",
    "\n",
    "char=input(\"Enter the character\")\n",
    "print(f'The ASCII value of {char} is',ord(char)) "
   ]
  },
  {
   "cell_type": "code",
   "execution_count": 19,
   "id": "48d077be-ac9e-4e39-8d40-079f52d9d433",
   "metadata": {},
   "outputs": [
    {
     "name": "stdin",
     "output_type": "stream",
     "text": [
      "Enter the value of n 50\n"
     ]
    },
    {
     "name": "stdout",
     "output_type": "stream",
     "text": [
      "Sum of squares of first 50 natural nos. is 42925\n"
     ]
    }
   ],
   "source": [
    "#Python Program for Sum of squares of first n natural numbers\n",
    "\n",
    "n=int(input(\"Enter the value of n\"))\n",
    "sum1=0\n",
    "for i in range(1,n+1):\n",
    "    sum1+=i**2\n",
    "print(f'Sum of squares of first {n} natural nos. is',sum1)"
   ]
  },
  {
   "cell_type": "code",
   "execution_count": 22,
   "id": "730aa3d1-0b8e-4215-8de2-5824fce85596",
   "metadata": {},
   "outputs": [
    {
     "name": "stdout",
     "output_type": "stream",
     "text": [
      "Input list [12, 23, 4, 56, 99]\n",
      "Output list [99, 23, 4, 56, 12]\n"
     ]
    }
   ],
   "source": [
    "#Python program to interchange first and last elements in a list\n",
    "\n",
    "l=[12,23,4,56,99]\n",
    "print(f'Input list',l)\n",
    "length=len(l)\n",
    "temp=l[0]\n",
    "l[0]=l[length-1]\n",
    "l[length-1]=temp\n",
    "print(f'Output list',l)\n",
    "\n",
    "\n"
   ]
  },
  {
   "cell_type": "code",
   "execution_count": 27,
   "id": "11cfbfa5-228d-4aaf-9f4c-88058736cbe3",
   "metadata": {},
   "outputs": [
    {
     "name": "stdin",
     "output_type": "stream",
     "text": [
      "Enter the number to search 10\n"
     ]
    },
    {
     "name": "stdout",
     "output_type": "stream",
     "text": [
      "Number found in the list\n"
     ]
    }
   ],
   "source": [
    "# Check if element exists in list in Python\n",
    "\n",
    "l=[10,23,45,65,67,65,76,65,43,24]\n",
    "n=int(input(\"Enter the number to search\"))\n",
    "length=len(l)\n",
    "flag=0\n",
    "for i in range(0,length):\n",
    "    if n in l:\n",
    "        flag=1\n",
    "        break\n",
    "    else:\n",
    "        continue\n",
    "if flag==1:\n",
    "    print(\"Number found in the list\")\n",
    "else:\n",
    "    print(\"Number not found in the list\")\n"
   ]
  },
  {
   "cell_type": "code",
   "execution_count": 29,
   "id": "f04a8e8f-8f28-40da-afd8-eb5559191936",
   "metadata": {},
   "outputs": [
    {
     "name": "stdout",
     "output_type": "stream",
     "text": [
      "List: [10, 23, 45, 65, 67, 65, 76, 65, 43, 24]\n",
      "Cleared list: []\n"
     ]
    }
   ],
   "source": [
    "# To clear a list\n",
    "\n",
    "l=[10,23,45,65,67,65,76,65,43,24]\n",
    "print(\"List:\",l)\n",
    "l.clear()\n",
    "print(\"Cleared list:\",l)"
   ]
  },
  {
   "cell_type": "code",
   "execution_count": 30,
   "id": "49b14443-e8c2-48ef-ae2a-15573843d36a",
   "metadata": {},
   "outputs": [
    {
     "name": "stdout",
     "output_type": "stream",
     "text": [
      "List: [10, 23, 45, 65, 67, 65, 76, 65, 43, 24]\n",
      "Reversed List: [24, 43, 65, 76, 65, 67, 65, 45, 23, 10]\n"
     ]
    }
   ],
   "source": [
    "# Reverse a list\n",
    "l=[10,23,45,65,67,65,76,65,43,24]\n",
    "print(\"List:\",l)\n",
    "l=l[::-1]\n",
    "print(\"Reversed List:\",l)\n"
   ]
  },
  {
   "cell_type": "code",
   "execution_count": 33,
   "id": "fbff9fa1-245c-41a9-b6bc-a2773923d436",
   "metadata": {},
   "outputs": [
    {
     "name": "stdout",
     "output_type": "stream",
     "text": [
      "List: [10, 23, 0]\n",
      "List element multiplication: 0\n"
     ]
    }
   ],
   "source": [
    "# Multiply all numbers in the list\n",
    "\n",
    "l=[10,23,45,65,67,65,76,65,43,24]\n",
    "print(\"List:\",l)\n",
    "length=len(l)\n",
    "mul=1\n",
    "for i in range(0,length):\n",
    "    mul=mul*l[i]\n",
    "print(f'List element multiplication:',mul)\n",
    "    "
   ]
  },
  {
   "cell_type": "code",
   "execution_count": 35,
   "id": "40afd04a-0ae5-424f-84b2-fc2ad238f416",
   "metadata": {},
   "outputs": [
    {
     "name": "stdout",
     "output_type": "stream",
     "text": [
      "List: [10, 23, 45, 65, 67, 65, 76, 65, 43, 24, 3, 2]\n",
      "Minimum number in the list is 2\n"
     ]
    }
   ],
   "source": [
    "# Python program to find smallest number in a list\n",
    "l=[10,23,45,65,67,65,76,65,43,24,3,2]\n",
    "print(\"List:\",l)\n",
    "length=len(l)\n",
    "min=l[0]\n",
    "for i in range(0,length):\n",
    "    if l[i]<min:\n",
    "        min=l[i]\n",
    "    else:\n",
    "        min=l[0]\n",
    "print(f'Minimum number in the list is',min)  "
   ]
  },
  {
   "cell_type": "code",
   "execution_count": 37,
   "id": "d0088f4b-a4d2-4937-8a5d-605b2f0ce823",
   "metadata": {},
   "outputs": [
    {
     "name": "stdout",
     "output_type": "stream",
     "text": [
      "List: [10, 23, 45, 65, 67, 65, 76, 65, 43, 24, 3, 2]\n",
      "The second largest number in the list is 67\n"
     ]
    }
   ],
   "source": [
    "# Python program to find second largest number in a list\n",
    "l=[10,23,45,65,67,65,76,65,43,24,3,2]\n",
    "print(\"List:\",l)\n",
    "l.sort(reverse=True)\n",
    "print(f'The second largest number in the list is',l[1])"
   ]
  },
  {
   "cell_type": "code",
   "execution_count": 38,
   "id": "fa49abbf-ab12-4240-8908-8c4290e542f8",
   "metadata": {},
   "outputs": [
    {
     "name": "stdout",
     "output_type": "stream",
     "text": [
      "List: [10, 23, 45, 65, 67, 65, 76, 65, 43, 24, 3, 2]\n",
      "The even numbers in the given list are [10, 76, 24, 2]\n"
     ]
    }
   ],
   "source": [
    "# Python program to print even numbers in a list\n",
    "l=[10,23,45,65,67,65,76,65,43,24,3,2]\n",
    "m=[]\n",
    "print(\"List:\",l)\n",
    "length=len(l)\n",
    "for i in range(0,length):\n",
    "    if l[i]%2==0:\n",
    "        m.append(l[i])\n",
    "    else:\n",
    "        continue\n",
    "print(f'The even numbers in the given list are',m)\n",
    "        "
   ]
  },
  {
   "cell_type": "code",
   "execution_count": 4,
   "id": "f5220111-1797-4f08-93d8-ef46edce13ca",
   "metadata": {},
   "outputs": [
    {
     "name": "stdin",
     "output_type": "stream",
     "text": [
      "Enter the number 65\n"
     ]
    },
    {
     "name": "stdout",
     "output_type": "stream",
     "text": [
      "No. of occurences of 65 in the list is 4\n"
     ]
    }
   ],
   "source": [
    "# Count occurrences of an element in a list\n",
    "l=[10,23,45,65,67,65,76,65,3,2,65,43,24,3,2]\n",
    "n=int(input(\"Enter the number\"))\n",
    "length=len(l)\n",
    "count=0\n",
    "for i in range(0,length):\n",
    "    if n==l[i]:\n",
    "        count+=1\n",
    "    else:\n",
    "        continue\n",
    "print(f'No. of occurences of {n} in the list is',count)\n"
   ]
  },
  {
   "cell_type": "code",
   "execution_count": 7,
   "id": "b77001a4-9e39-48bd-bb8e-eb1746c24036",
   "metadata": {},
   "outputs": [
    {
     "name": "stdin",
     "output_type": "stream",
     "text": [
      "Enter the size of each chunk list 6\n"
     ]
    },
    {
     "name": "stdout",
     "output_type": "stream",
     "text": [
      "[10, 23, 45, 65, 67, 65]\n",
      "[76, 65, 3, 2, 65, 43]\n",
      "[24, 3, 2]\n"
     ]
    }
   ],
   "source": [
    "# Break a list into chunks of size N in Python\n",
    "l=[10,23,45,65,67,65,76,65,3,2,65,43,24,3,2]\n",
    "step=int(input(\"Enter the size of each chunk list\"))\n",
    "start=0\n",
    "stop=len(l)\n",
    "for i in range(start,stop,step):\n",
    "    print(l[i:i+step])\n"
   ]
  },
  {
   "cell_type": "code",
   "execution_count": 13,
   "id": "be8fd40b-98b5-4360-a56b-499b5b82f1dc",
   "metadata": {},
   "outputs": [
    {
     "name": "stdin",
     "output_type": "stream",
     "text": [
      "Enter the string aasddd\n"
     ]
    },
    {
     "name": "stdout",
     "output_type": "stream",
     "text": [
      "The string is not a palindrome\n"
     ]
    }
   ],
   "source": [
    "# Python Program to Check if a String is Palindrome or Not\n",
    "str1=input(\"Enter the string\")\n",
    "str2=str1[::-1]\n",
    "if (str1.lower())==(str2.lower()):\n",
    "    print(\"The string is a palindrome\")\n",
    "else:\n",
    "    print(\"The string is not a palindrome\")\n",
    "    \n"
   ]
  },
  {
   "cell_type": "code",
   "execution_count": 8,
   "id": "2fe19a09-6e8b-449a-b170-0e08fdc2c148",
   "metadata": {},
   "outputs": [
    {
     "name": "stdin",
     "output_type": "stream",
     "text": [
      "Enter the string navnath\n"
     ]
    },
    {
     "name": "stdout",
     "output_type": "stream",
     "text": [
      "nvnth\n"
     ]
    }
   ],
   "source": [
    "# Program to remove a given character from a string\n",
    "str1=input(\"Enter the string\")\n",
    "length=len(str1)\n",
    "str2=str1.replace(\"a\",\"\")\n",
    "print(str2)"
   ]
  },
  {
   "cell_type": "code",
   "execution_count": 9,
   "id": "96e8d635-5e39-427c-8671-56350382d4fd",
   "metadata": {},
   "outputs": [
    {
     "name": "stdout",
     "output_type": "stream",
     "text": [
      "The original string is : GeeksforGeeks\n",
      "The minimum of all characters in GeeksforGeeks is : f\n"
     ]
    }
   ],
   "source": [
    "# To count frequency\n",
    "from collections import Counter\n",
    " \n",
    "# initializing string \n",
    "test_str = \"GeeksforGeeks\"\n",
    " \n",
    "# printing original string\n",
    "print (\"The original string is : \" + test_str)\n",
    " \n",
    "# using collections.Counter() + min() to get \n",
    "# Least Frequent Character in String\n",
    "res = Counter(test_str)\n",
    "res = min(res, key = res.get) \n",
    " \n",
    "# printing result \n",
    "print (\"The minimum of all characters in GeeksforGeeks is : \" + str(res))"
   ]
  },
  {
   "cell_type": "code",
   "execution_count": 17,
   "id": "d2a6886b-36c4-46b6-8aa6-29e0d7da7688",
   "metadata": {},
   "outputs": [
    {
     "name": "stdin",
     "output_type": "stream",
     "text": [
      "Enter the string abc\n"
     ]
    },
    {
     "name": "stdout",
     "output_type": "stream",
     "text": [
      "abc\n",
      "acb\n",
      "bac\n",
      "bca\n",
      "cab\n",
      "cba\n"
     ]
    }
   ],
   "source": [
    "# program to find all permutation of a string\n",
    "from itertools import permutations\n",
    "str1=input(\"Enter the string\")\n",
    "perm=permutations(str1)\n",
    "for i in perm:\n",
    "    print(''.join(i))"
   ]
  },
  {
   "cell_type": "code",
   "execution_count": 22,
   "id": "d351bd37-47fa-415a-ad2d-7033d60eac82",
   "metadata": {},
   "outputs": [
    {
     "name": "stdout",
     "output_type": "stream",
     "text": [
      "[[1, 2, 2, 3, 4], [1, 2, 3, 6, 7, 8], [2, 3, 4, 5, 9, 10]]\n"
     ]
    }
   ],
   "source": [
    "# Extract Unique values dictionary values\n",
    "dict1={'1':[1,2,2,3,4],\n",
    "       '2':[1,2,3,6,7,8],\n",
    "       '3':[2,3,4,5,9,10]\n",
    "      }\n",
    "res=[]\n",
    "for key,value in dict1.items():\n",
    "    for value in dict1.values():\n",
    "        if value not in res:\n",
    "            res.append(value)\n",
    "        else:\n",
    "            continue\n",
    "print(list(res))\n",
    "            \n"
   ]
  },
  {
   "cell_type": "code",
   "execution_count": 44,
   "id": "7119584b-9fcf-4d79-9c8c-c24d616a48e5",
   "metadata": {},
   "outputs": [
    {
     "name": "stdout",
     "output_type": "stream",
     "text": [
      "* *\n",
      "* ** ** *\n",
      "* ** ** ** ** *\n",
      "* ** ** ** ** ** ** *\n",
      "* ** ** ** ** ** ** ** ** *\n",
      "* ** ** ** ** ** ** ** ** ** ** *\n",
      "* ** ** ** ** ** ** ** ** ** ** ** ** *\n",
      "* ** ** ** ** ** ** ** ** ** ** ** ** ** ** *\n",
      "* ** ** ** ** ** ** ** ** ** ** ** ** ** ** ** ** *\n",
      "* ** ** ** ** ** ** ** ** ** ** ** ** ** ** ** ** ** ** *\n"
     ]
    }
   ],
   "source": [
    "# program to print staircase pattern\n",
    "str1=\"* *\"\n",
    "for i in range(1,21,2):\n",
    "    print(str1*i)\n",
    "    "
   ]
  },
  {
   "cell_type": "code",
   "execution_count": 48,
   "id": "ab9ca3c8-a4a0-430f-afbc-aaa9bd78cb34",
   "metadata": {},
   "outputs": [
    {
     "name": "stdout",
     "output_type": "stream",
     "text": [
      "11:57:06\n"
     ]
    }
   ],
   "source": [
    "# Program to get current time\n",
    "from datetime import datetime\n",
    "dt=datetime.now()\n",
    "dt1=dt.strftime(\"%H:%M:%S\")\n",
    "print(dt1)"
   ]
  },
  {
   "cell_type": "code",
   "execution_count": 50,
   "id": "c23dd658-d9c3-4746-a1b6-4dd5e7fb18db",
   "metadata": {},
   "outputs": [
    {
     "name": "stdout",
     "output_type": "stream",
     "text": [
      "2024-01-07 12:03:18.343140\n"
     ]
    }
   ],
   "source": [
    "from datetime import datetime\n",
    "print(datetime.now())"
   ]
  },
  {
   "cell_type": "code",
   "execution_count": 52,
   "id": "c9a412d3-a4fb-4558-892d-f4305b469492",
   "metadata": {},
   "outputs": [
    {
     "name": "stdin",
     "output_type": "stream",
     "text": [
      "Enter the string 2434434\n"
     ]
    },
    {
     "name": "stdout",
     "output_type": "stream",
     "text": [
      "Non-Valid String\n"
     ]
    }
   ],
   "source": [
    "# Program to check if string contains a defined characters\n",
    "import re\n",
    "chr=re.compile('abcd')\n",
    "str1=input(\"Enter the string\")\n",
    "if re.search(chr,str1):\n",
    "    print(\"Valid String\")\n",
    "else:\n",
    "    print(\"Non-Valid String\")"
   ]
  },
  {
   "cell_type": "code",
   "execution_count": 53,
   "id": "effb07c0-c3f2-4437-8734-68fcdc82dd0e",
   "metadata": {},
   "outputs": [
    {
     "name": "stdout",
     "output_type": "stream",
     "text": [
      "No. of uppercase 3\n",
      "No. of lowercase 5\n",
      "No. of Special characters 5\n",
      "No. of numeric count 8\n"
     ]
    }
   ],
   "source": [
    "# Python program to Count Uppercase, Lowercase, special character and numeric values using Regex\n",
    "\n",
    "import re\n",
    "input_string=\"WQaaddsS123#$%^&09865\"\n",
    "uppercase_count = len(re.findall(r'[A-Z]', input_string))\n",
    "lowercase_count = len(re.findall(r'[a-z]', input_string))\n",
    "special_char_count = len(re.findall(r'[!@#$%^&*()_+{}\\[\\]:;<>,.?\\\\/-]', input_string))\n",
    "numeric_count = len(re.findall(r'[0-9]', input_string))\n",
    "print(f'No. of uppercase',uppercase_count)\n",
    "print(f'No. of lowercase',lowercase_count)\n",
    "print(f'No. of Special characters',special_char_count)\n",
    "print(f'No. of numeric count',numeric_count)"
   ]
  },
  {
   "cell_type": "code",
   "execution_count": 55,
   "id": "97da4e30-f418-4a0f-a5ae-d569950e3961",
   "metadata": {},
   "outputs": [
    {
     "name": "stdout",
     "output_type": "stream",
     "text": [
      "{\n",
      "\n",
      "    \"1\": {\n",
      "\n",
      "        \"Name\": \"Navnath\",\n",
      "\n",
      "        \"Eng_marks\": \"76\",\n",
      "\n",
      "        \"Maths_marks\": \"67\"\n",
      "\n",
      "    \n",
      "\n",
      "\n",
      "\n",
      "{\n",
      "\n",
      "    \"2\": {\n",
      "\n",
      "        \"Name\": \"Mukesh\",\n",
      "\n",
      "        \"Eng_marks\": \"66\",\n",
      "\n",
      "        \"Maths_marks\": \"87\"\n",
      "\n",
      "    \n",
      "\n",
      "\n",
      "\n",
      "{\n",
      "\n",
      "    \"3\": {\n",
      "\n",
      "        \"Name\": \"Sachin\",\n",
      "\n",
      "        \"Eng_marks\": \"67\",\n",
      "\n",
      "        \"Maths_marks\": \"66\"\n",
      "\n",
      "    \n",
      "\n",
      "\n",
      "\n",
      "{\n",
      "\n",
      "    \"4\": {\n",
      "\n",
      "        \"Name\": \"Ram\",\n",
      "\n",
      "        \"Eng_marks\": \"67\",\n",
      "\n",
      "        \"Maths_marks\": \"66\"\n",
      "\n",
      "    \n",
      "\n",
      "\n",
      "\n",
      "\n"
     ]
    }
   ],
   "source": [
    "# Python program to read file word by word\n",
    "\n",
    "with open(\"data.json\") as file:\n",
    "    for line in file:\n",
    "        for word in line.split(\"}\"):\n",
    "            print(word)\n",
    "            "
   ]
  },
  {
   "cell_type": "code",
   "execution_count": 59,
   "id": "a8edfeb5-eb4c-4b28-a913-5157affbb03c",
   "metadata": {},
   "outputs": [
    {
     "name": "stdout",
     "output_type": "stream",
     "text": [
      "{\n",
      "    \"1\":\n",
      " {\n",
      "       \n",
      " \"Name\": \"\n",
      "Navnath\",\n",
      "\n",
      "        \"E\n",
      "ng_marks\":\n",
      " \"76\",\n",
      "   \n",
      "     \"Math\n",
      "s_marks\": \n",
      "\"67\"\n",
      "    }\n",
      "\n",
      "}{\n",
      "    \"2\n",
      "\": {\n",
      "     \n",
      "   \"Name\":\n",
      " \"Mukesh\",\n",
      "\n",
      "        \"\n",
      "Eng_marks\"\n",
      ": \"66\",\n",
      "  \n",
      "      \"Mat\n",
      "hs_marks\":\n",
      " \"87\"\n",
      "    \n",
      "}\n",
      "}{\n",
      "    \"\n",
      "3\": {\n",
      "    \n",
      "    \"Name\"\n",
      ": \"Sachin\"\n",
      ",\n",
      "        \n",
      "\"Eng_marks\n",
      "\": \"67\",\n",
      " \n",
      "       \"Ma\n",
      "ths_marks\"\n",
      ": \"66\"\n",
      "   \n",
      " }\n",
      "}{\n",
      "    \n",
      "\"4\": {\n",
      "   \n",
      "     \"Name\n",
      "\": \"Ram\",\n",
      "\n",
      "        \"E\n",
      "ng_marks\":\n",
      " \"67\",\n",
      "   \n",
      "     \"Math\n",
      "s_marks\": \n",
      "\"66\"\n",
      "    }\n",
      "\n",
      "}\n"
     ]
    }
   ],
   "source": [
    "# Python program to read character by character from a file\n",
    "\n",
    "with open('data.json') as file:\n",
    "    while True:\n",
    "        chr=file.read(10)\n",
    "        if not chr:\n",
    "            break\n",
    "        print(chr)"
   ]
  },
  {
   "cell_type": "code",
   "execution_count": 62,
   "id": "eab04ac7-e958-43d7-b9a4-e3d0ac6cf7b5",
   "metadata": {},
   "outputs": [
    {
     "name": "stdin",
     "output_type": "stream",
     "text": [
      "Enter the text How\n",
      "Enter the value of n 3\n"
     ]
    },
    {
     "name": "stdout",
     "output_type": "stream",
     "text": [
      "How\n",
      "are\n",
      "did\n",
      "you\n",
      "are\n",
      "you\n",
      "did\n",
      "you\n",
      "How\n"
     ]
    }
   ],
   "source": [
    "# Finding ‘n’ Character Words in a Text File\n",
    "str1=input(\"Enter the text\")\n",
    "with open('practice1.txt','a+') as file:\n",
    "    file.write(str1)\n",
    "n=int(input(\"Enter the value of n\"))\n",
    "with open('practice1.txt','r') as file:\n",
    "    for line in file:\n",
    "        for word in line.split():\n",
    "            if len(word)==n:\n",
    "                print(word)\n",
    "            else:\n",
    "                continue\n"
   ]
  },
  {
   "cell_type": "code",
   "execution_count": 69,
   "id": "c5453eff-139b-4234-8fbd-9617fd252522",
   "metadata": {},
   "outputs": [
    {
     "ename": "SyntaxError",
     "evalue": "invalid syntax. Perhaps you forgot a comma? (3933325157.py, line 56)",
     "output_type": "error",
     "traceback": [
      "\u001b[1;36m  Cell \u001b[1;32mIn[69], line 56\u001b[1;36m\u001b[0m\n\u001b[1;33m    obj.accept(ls[])\u001b[0m\n\u001b[1;37m               ^\u001b[0m\n\u001b[1;31mSyntaxError\u001b[0m\u001b[1;31m:\u001b[0m invalid syntax. Perhaps you forgot a comma?\n"
     ]
    }
   ],
   "source": [
    "# This is simplest Student data management program in python\n",
    " \n",
    "# Create class \"Student\"\n",
    "class Student:\n",
    " \n",
    "  # Constructor\n",
    "    def __init__(self, name, rollno, m1, m2):\n",
    "        self.name = name\n",
    "        self.rollno = rollno\n",
    "        self.m1 = m1\n",
    "        self.m2 = m2\n",
    " \n",
    "    # Function to create and append new student\n",
    "    def accept(self, Name, Rollno, marks1, marks2):\n",
    "        Name=input(\"Enter the name\")\n",
    "        Rollno=int(input(\"Enter the Roll no.\"))\n",
    "        marks1=int(input(\"Enter the marks 1\"))\n",
    "        marks2=int(input(\"Enter the marks 2\"))\n",
    "        ob = Student(Name, Rollno, marks1, marks2)\n",
    "        ls.append(ob)\n",
    " \n",
    "    # Function to display student details\n",
    "    def display(self, ob):\n",
    "        print(\"Name : \", ob.name)\n",
    "        print(\"RollNo : \", ob.rollno)\n",
    "        print(\"Marks1 : \", ob.m1)\n",
    "        print(\"Marks2 : \", ob.m2)\n",
    "        print(\"\\n\")\n",
    " \n",
    "    # Search Function\n",
    "    def search(self, rn):\n",
    "        for i in range(ls.__len__()):\n",
    "            if(ls[i].rollno == rn):\n",
    "                return i\n",
    " \n",
    "    # Delete Function\n",
    "    def delete(self, rn):\n",
    "        i = obj.search(rn)\n",
    "        del ls[i]\n",
    " \n",
    "    # Update Function\n",
    "    def update(self, rn, No):\n",
    "        i = obj.search(rn)\n",
    "        roll = No\n",
    "        ls[i].rollno = roll\n",
    " \n",
    " \n",
    "# Create a list to add Students\n",
    "ls = []\n",
    "obj = Student('', 0, 0, 0)\n",
    "print(\"\\nOperations used, \")\n",
    "print(\"\\n1.Accept Student details\\n2.Display Student Details\\n3.Search Details of a Student\\n4.Delete Details of Student\\n5.Update Student Details\\n6.Exit\")\n",
    " \n",
    "ch = int(input(\"Enter choice:\"))\n",
    "if(ch == 1):\n",
    "    obj.accept(ls[])\n",
    "\n",
    "elif(ch == 2):\n",
    "    print(\"\\n\")\n",
    "    print(\"\\nList of Students\\n\")\n",
    "    for i in range(ls.__len__()):\n",
    "        obj.display(ls[i])\n",
    " \n",
    "elif(ch == 3):\n",
    "    print(\"\\n Student Found, \")\n",
    "    s = obj.search(2)\n",
    "    obj.display(ls[s])\n",
    " \n",
    "elif(ch == 4):\n",
    "    obj.delete(2)\n",
    "    print(ls.__len__())\n",
    "    print(\"List after deletion\")\n",
    "    for i in range(ls.__len__()):\n",
    "        obj.display(ls[i])\n",
    " \n",
    "elif(ch == 5):\n",
    "    obj.update(3, 2)\n",
    "    print(ls.__len__())\n",
    "    print(\"List after updation\")\n",
    "    for i in range(ls.__len__()):\n",
    "        obj.display(ls[i])\n",
    "else:\n",
    "    print(\"Thank You !\")"
   ]
  },
  {
   "cell_type": "code",
   "execution_count": 72,
   "id": "ae3de7a9-123d-4a70-8f39-7aa1c2e57549",
   "metadata": {},
   "outputs": [
    {
     "name": "stdout",
     "output_type": "stream",
     "text": [
      "Name of the car is Fabia 2011\n"
     ]
    }
   ],
   "source": [
    "# Simple class in Python\n",
    "\n",
    "class Car:\n",
    "    def __init__(self,name,year):\n",
    "        self.name=name\n",
    "        self.year=year\n",
    "    def display(self):\n",
    "        print(f'Name of the car is {self.name} {self.year}')\n",
    "obj=Car(\"Fabia\",\"2011\")\n",
    "obj.display()"
   ]
  },
  {
   "cell_type": "code",
   "execution_count": 74,
   "id": "c2c6e565-58ba-4ca4-8b45-4fb76122928d",
   "metadata": {},
   "outputs": [
    {
     "name": "stdout",
     "output_type": "stream",
     "text": [
      "The car is Alto 2022\n",
      "The car is BMW 2023\n"
     ]
    }
   ],
   "source": [
    "# Creating a sub class\n",
    "\n",
    "class Car:\n",
    "    def __init__(self,name,year):\n",
    "        self.name=name\n",
    "        self.year=year\n",
    "    def display(self):\n",
    "        print(f'The car is {self.name} {self.year}')\n",
    "class Model(Car):\n",
    "    def display(self):\n",
    "        print(f'The car is {self.name} {self.year}')\n",
    "\n",
    "obj1=Car(\"BMW\",\"2023\")\n",
    "obj2=Model(\"Alto\",\"2022\")\n",
    "obj2.display()\n",
    "obj1.display()\n",
    "\n"
   ]
  },
  {
   "cell_type": "code",
   "execution_count": null,
   "id": "2e70d017-836a-498f-a955-fef9aed5c529",
   "metadata": {},
   "outputs": [],
   "source": []
  },
  {
   "cell_type": "code",
   "execution_count": null,
   "id": "4949673c-1c5d-427d-b90f-fd962f44d2a2",
   "metadata": {},
   "outputs": [],
   "source": []
  }
 ],
 "metadata": {
  "kernelspec": {
   "display_name": "Python 3 (ipykernel)",
   "language": "python",
   "name": "python3"
  },
  "language_info": {
   "codemirror_mode": {
    "name": "ipython",
    "version": 3
   },
   "file_extension": ".py",
   "mimetype": "text/x-python",
   "name": "python",
   "nbconvert_exporter": "python",
   "pygments_lexer": "ipython3",
   "version": "3.12.0"
  }
 },
 "nbformat": 4,
 "nbformat_minor": 5
}
